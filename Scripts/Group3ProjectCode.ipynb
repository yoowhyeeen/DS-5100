{
 "nbformat": 4,
 "nbformat_minor": 0,
 "metadata": {
  "colab": {
   "name": "Group3ProjectCode.ipynb",
   "provenance": [],
   "collapsed_sections": []
  },
  "kernelspec": {
   "name": "pycharm-c84ebc99",
   "language": "python",
   "display_name": "PyCharm (DSmod8)"
  },
  "language_info": {
   "name": "python"
  }
 },
 "cells": [
  {
   "cell_type": "markdown",
   "metadata": {
    "id": "rsWRCDn7WrlI"
   },
   "source": [
    "# Run this in Google Colab. Link: https://drive.google.com/file/d/1Y9TsZPlogVWL1qHowaGctvpUPqhOthmS/view?usp=sharing\n",
    "# DS 5100 Group Project\n",
    "Uyen Nguyen (gmd8sq)  \n",
    "Andy Ortiz (eao7r)  \n",
    "Lee Ann Johnson (lj6gd)  \n",
    "JD Pinto (jp5ph)"
   ]
  },
  {
   "cell_type": "markdown",
   "metadata": {
    "id": "9thuRVR6acCB"
   },
   "source": [
    "### Functions"
   ]
  },
  {
   "cell_type": "code",
   "metadata": {
    "id": "6Oo_GDGvZyYs"
   },
   "source": [
    "# function that checks for files to delete\n",
    "def cleanup():\n",
    "  import os\n",
    "  try:\n",
    "    os.remove(\"LLCP2016.XPT\") \n",
    "    os.remove(\"LLCP2017.XPT\")\n",
    "    os.remove(\"LLCP2018.XPT\")\n",
    "    os.remove(\"LLCP2019.XPT\")\n",
    "    os.remove(\"LLCP2020.XPT\")\n",
    "    return 'Files were removed.'\n",
    "  except:\n",
    "    return 'These files have already been removed.'"
   ],
   "execution_count": 4,
   "outputs": []
  },
  {
   "cell_type": "code",
   "metadata": {
    "id": "MLKL0xDQZ2o_"
   },
   "source": [
    "# function that converts XPT/SAS formatted files to pandas dataframes\n",
    "def converter():\n",
    "  try:\n",
    "    brfss2016 = pd.read_sas(\"LLCP2016.XPT\", format='xport')\n",
    "\n",
    "    brfss2017 = pd.read_sas(\"LLCP2017.XPT\", format='xport')\n",
    "\n",
    "    brfss2018 = pd.read_sas(\"LLCP2018.XPT\", format='xport')\n",
    "\n",
    "    brfss2019 = pd.read_sas(\"LLCP2019.XPT\", format='xport')\n",
    "\n",
    "    brfss2020 = pd.read_sas(\"LLCP2020.XPT\", format='xport')\n",
    "    return 'All files were converted.'\n",
    "  except:\n",
    "    return 'File conversion was interrupted.'"
   ],
   "execution_count": 5,
   "outputs": []
  },
  {
   "cell_type": "markdown",
   "metadata": {
    "id": "g5o9wIGd77Vj"
   },
   "source": [
    "### Data Acquisition"
   ]
  },
  {
   "cell_type": "markdown",
   "metadata": {
    "id": "DfXkVUomx_-N"
   },
   "source": [
    "The original CDC BRFSS data download links are  \n",
    "https://www.cdc.gov/brfss/annual_data/2016/files/LLCP2016XPT.zip  \n",
    "https://www.cdc.gov/brfss/annual_data/2017/files/LLCP2017XPT.zip  \n",
    "https://www.cdc.gov/brfss/annual_data/2018/files/LLCP2018XPT.zip  \n",
    "https://www.cdc.gov/brfss/annual_data/2019/files/LLCP2019XPT.zip  \n",
    "https://www.cdc.gov/brfss/annual_data/2020/files/LLCP2020XPT.zip"
   ]
  },
  {
   "cell_type": "markdown",
   "metadata": {
    "id": "uIV26Vg3y529"
   },
   "source": [
    "These links yield zipped files, which we decompressed into the original SAS format.  \n",
    "These uncompressed SAS files are saved in our Google Drive.  \n",
    "The following code will download these uncompressed SAS format files into this notebook.  \n",
    "Takes about 3 minutes."
   ]
  },
  {
   "cell_type": "code",
   "metadata": {
    "colab": {
     "base_uri": "https://localhost:8080/"
    },
    "id": "Zu8RS-JS85W4",
    "outputId": "df3d1118-5476-42d4-d0b7-be8f88648b13"
   },
   "source": [
    "!wget -q --show-progress --load-cookies /tmp/cookies.txt \"https://docs.google.com/uc?export=download&confirm=$(wget --quiet --save-cookies /tmp/cookies.txt --keep-session-cookies --no-check-certificate 'https://docs.google.com/uc?export=download&id=1eZEJcs475GkYiZuA140-yApWJPPjMIvu' -O- | sed -rn 's/.*confirm=([0-9A-Za-z_]+).*/\\1\\n/p')&id=1eZEJcs475GkYiZuA140-yApWJPPjMIvu\" -O LLCP2016.XPT &&rm -rf /tmp/cookies.txt\n",
    "\n",
    "!wget -q --show-progress --load-cookies /tmp/cookies.txt \"https://docs.google.com/uc?export=download&confirm=$(wget --quiet --save-cookies /tmp/cookies.txt --keep-session-cookies --no-check-certificate 'https://docs.google.com/uc?export=download&id=1et4-t9Nfz9kuv6eJ5lSmu5BeYh4LC1Ac' -O- | sed -rn 's/.*confirm=([0-9A-Za-z_]+).*/\\1\\n/p')&id=1et4-t9Nfz9kuv6eJ5lSmu5BeYh4LC1Ac\" -O LLCP2017.XPT &&rm -rf /tmp/cookies.txt\n",
    "\n",
    "!wget -q --show-progress --load-cookies /tmp/cookies.txt \"https://docs.google.com/uc?export=download&confirm=$(wget --quiet --save-cookies /tmp/cookies.txt --keep-session-cookies --no-check-certificate 'https://docs.google.com/uc?export=download&id=1d7gaJ97Wikkpg0oKzu-TkoRCc6yjHWSX' -O- | sed -rn 's/.*confirm=([0-9A-Za-z_]+).*/\\1\\n/p')&id=1d7gaJ97Wikkpg0oKzu-TkoRCc6yjHWSX\" -O LLCP2018.XPT &&rm -rf /tmp/cookies.txt\n",
    "\n",
    "!wget -q --show-progress --load-cookies /tmp/cookies.txt \"https://docs.google.com/uc?export=download&confirm=$(wget --quiet --save-cookies /tmp/cookies.txt --keep-session-cookies --no-check-certificate 'https://docs.google.com/uc?export=download&id=16uXxriJalDLsVxpddV_CZ9EE7nPtvJV_' -O- | sed -rn 's/.*confirm=([0-9A-Za-z_]+).*/\\1\\n/p')&id=16uXxriJalDLsVxpddV_CZ9EE7nPtvJV_\" -O LLCP2019.XPT &&rm -rf /tmp/cookies.txt\n",
    "\n",
    "!wget -q --show-progress --load-cookies /tmp/cookies.txt \"https://docs.google.com/uc?export=download&confirm=$(wget --quiet --save-cookies /tmp/cookies.txt --keep-session-cookies --no-check-certificate 'https://docs.google.com/uc?export=download&id=1TDezb0zAXg9o7bdg9-PUwPIccck-B5hh' -O- | sed -rn 's/.*confirm=([0-9A-Za-z_]+).*/\\1\\n/p')&id=1TDezb0zAXg9o7bdg9-PUwPIccck-B5hh\" -O LLCP2020.XPT &&rm -rf /tmp/cookies.txt"
   ],
   "execution_count": 6,
   "outputs": [
    {
     "name": "stderr",
     "output_type": "stream",
     "text": [
      "'wget' is not recognized as an internal or external command,\n",
      "operable program or batch file.\n",
      "'wget' is not recognized as an internal or external command,\n",
      "operable program or batch file.\n",
      "'wget' is not recognized as an internal or external command,\n",
      "operable program or batch file.\n",
      "'wget' is not recognized as an internal or external command,\n",
      "operable program or batch file.\n",
      "'wget' is not recognized as an internal or external command,\n",
      "operable program or batch file.\n"
     ]
    }
   ]
  },
  {
   "cell_type": "code",
   "metadata": {
    "id": "iewSDqfL4dVv"
   },
   "source": [
    "import sys\n",
    "from pathlib import Path\n",
    "try:\n",
    "  if (Path('LLCP2016.XPT').stat().st_size < 1000000000 or \\\n",
    "      Path('LLCP2017.XPT').stat().st_size < 1100000000 or \\\n",
    "      Path('LLCP2018.XPT').stat().st_size < 900000000 or \\\n",
    "      Path('LLCP2019.XPT').stat().st_size < 1000000000 or \\\n",
    "      Path('LLCP2020.XPT').stat().st_size < 800000000):\n",
    "    sys.exit('Download failed. Restart the program.')\n",
    "except:\n",
    "  sys.exit('Download failed. Restart the program.')"
   ],
   "execution_count": 7,
   "outputs": [
    {
     "name": "stderr",
     "output_type": "stream",
     "text": [
      "ERROR:root:Internal Python error in the inspect module.\n",
      "Below is the traceback from this internal error.\n",
      "\n"
     ]
    },
    {
     "name": "stdout",
     "output_type": "stream",
     "text": [
      "Traceback (most recent call last):\n",
      "  File \"C:\\Users\\eaort\\AppData\\Local\\Temp/ipykernel_15664/2844272296.py\", line 4, in <module>\n",
      "    if (Path('LLCP2016.XPT').stat().st_size < 1000000000 or \\\n",
      "  File \"C:\\Users\\eaort\\anaconda3\\envs\\DSMod1\\lib\\pathlib.py\", line 1222, in stat\n",
      "    return self._accessor.stat(self)\n",
      "FileNotFoundError: [WinError 2] The system cannot find the file specified: 'LLCP2016.XPT'\n",
      "\n",
      "During handling of the above exception, another exception occurred:\n",
      "\n",
      "Traceback (most recent call last):\n",
      "  File \"C:\\Users\\eaort\\anaconda3\\envs\\DSMod1\\lib\\site-packages\\IPython\\core\\interactiveshell.py\", line 3441, in run_code\n",
      "    exec(code_obj, self.user_global_ns, self.user_ns)\n",
      "  File \"C:\\Users\\eaort\\AppData\\Local\\Temp/ipykernel_15664/2844272296.py\", line 11, in <module>\n",
      "    sys.exit('Download failed. Restart the program.')\n",
      "SystemExit: Download failed. Restart the program.\n",
      "\n",
      "During handling of the above exception, another exception occurred:\n",
      "\n",
      "Traceback (most recent call last):\n",
      "  File \"C:\\Users\\eaort\\anaconda3\\envs\\DSMod1\\lib\\site-packages\\IPython\\core\\ultratb.py\", line 1101, in get_records\n",
      "    return _fixed_getinnerframes(etb, number_of_lines_of_context, tb_offset)\n",
      "  File \"C:\\Users\\eaort\\anaconda3\\envs\\DSMod1\\lib\\site-packages\\IPython\\core\\ultratb.py\", line 248, in wrapped\n",
      "    return f(*args, **kwargs)\n",
      "  File \"C:\\Users\\eaort\\anaconda3\\envs\\DSMod1\\lib\\site-packages\\IPython\\core\\ultratb.py\", line 281, in _fixed_getinnerframes\n",
      "    records = fix_frame_records_filenames(inspect.getinnerframes(etb, context))\n",
      "  File \"C:\\Users\\eaort\\anaconda3\\envs\\DSMod1\\lib\\inspect.py\", line 1541, in getinnerframes\n",
      "    frameinfo = (tb.tb_frame,) + getframeinfo(tb, context)\n",
      "AttributeError: 'tuple' object has no attribute 'tb_frame'\n"
     ]
    },
    {
     "ename": "TypeError",
     "evalue": "object of type 'NoneType' has no len()",
     "output_type": "error",
     "traceback": [
      "\u001B[1;31m---------------------------------------------------------------------------\u001B[0m",
      "\u001B[1;31mFileNotFoundError\u001B[0m                         Traceback (most recent call last)",
      "\u001B[1;32m~\\AppData\\Local\\Temp/ipykernel_15664/2844272296.py\u001B[0m in \u001B[0;36m<module>\u001B[1;34m\u001B[0m\n\u001B[0;32m      3\u001B[0m \u001B[1;32mtry\u001B[0m\u001B[1;33m:\u001B[0m\u001B[1;33m\u001B[0m\u001B[1;33m\u001B[0m\u001B[0m\n\u001B[1;32m----> 4\u001B[1;33m   if (Path('LLCP2016.XPT').stat().st_size < 1000000000 or \\\n\u001B[0m\u001B[0;32m      5\u001B[0m       \u001B[0mPath\u001B[0m\u001B[1;33m(\u001B[0m\u001B[1;34m'LLCP2017.XPT'\u001B[0m\u001B[1;33m)\u001B[0m\u001B[1;33m.\u001B[0m\u001B[0mstat\u001B[0m\u001B[1;33m(\u001B[0m\u001B[1;33m)\u001B[0m\u001B[1;33m.\u001B[0m\u001B[0mst_size\u001B[0m \u001B[1;33m<\u001B[0m \u001B[1;36m1100000000\u001B[0m \u001B[1;32mor\u001B[0m\u001B[0;31m \u001B[0m\u001B[0;31m\\\u001B[0m\u001B[1;33m\u001B[0m\u001B[1;33m\u001B[0m\u001B[0m\n",
      "\u001B[1;32m~\\anaconda3\\envs\\DSMod1\\lib\\pathlib.py\u001B[0m in \u001B[0;36mstat\u001B[1;34m(self)\u001B[0m\n\u001B[0;32m   1221\u001B[0m         \"\"\"\n\u001B[1;32m-> 1222\u001B[1;33m         \u001B[1;32mreturn\u001B[0m \u001B[0mself\u001B[0m\u001B[1;33m.\u001B[0m\u001B[0m_accessor\u001B[0m\u001B[1;33m.\u001B[0m\u001B[0mstat\u001B[0m\u001B[1;33m(\u001B[0m\u001B[0mself\u001B[0m\u001B[1;33m)\u001B[0m\u001B[1;33m\u001B[0m\u001B[1;33m\u001B[0m\u001B[0m\n\u001B[0m\u001B[0;32m   1223\u001B[0m \u001B[1;33m\u001B[0m\u001B[0m\n",
      "\u001B[1;31mFileNotFoundError\u001B[0m: [WinError 2] The system cannot find the file specified: 'LLCP2016.XPT'",
      "\nDuring handling of the above exception, another exception occurred:\n",
      "\u001B[1;31mSystemExit\u001B[0m                                Traceback (most recent call last)",
      "    \u001B[1;31m[... skipping hidden 1 frame]\u001B[0m\n",
      "\u001B[1;32m~\\AppData\\Local\\Temp/ipykernel_15664/2844272296.py\u001B[0m in \u001B[0;36m<module>\u001B[1;34m\u001B[0m\n\u001B[0;32m     10\u001B[0m \u001B[1;32mexcept\u001B[0m\u001B[1;33m:\u001B[0m\u001B[1;33m\u001B[0m\u001B[1;33m\u001B[0m\u001B[0m\n\u001B[1;32m---> 11\u001B[1;33m   \u001B[0msys\u001B[0m\u001B[1;33m.\u001B[0m\u001B[0mexit\u001B[0m\u001B[1;33m(\u001B[0m\u001B[1;34m'Download failed. Restart the program.'\u001B[0m\u001B[1;33m)\u001B[0m\u001B[1;33m\u001B[0m\u001B[1;33m\u001B[0m\u001B[0m\n\u001B[0m\u001B[0;32m     12\u001B[0m \u001B[1;33m\u001B[0m\u001B[0m\n",
      "\u001B[1;31mSystemExit\u001B[0m: Download failed. Restart the program.",
      "\nDuring handling of the above exception, another exception occurred:\n",
      "\u001B[1;31mTypeError\u001B[0m                                 Traceback (most recent call last)",
      "    \u001B[1;31m[... skipping hidden 1 frame]\u001B[0m\n",
      "\u001B[1;32m~\\anaconda3\\envs\\DSMod1\\lib\\site-packages\\IPython\\core\\interactiveshell.py\u001B[0m in \u001B[0;36mshowtraceback\u001B[1;34m(self, exc_tuple, filename, tb_offset, exception_only, running_compiled_code)\u001B[0m\n\u001B[0;32m   2052\u001B[0m                     stb = ['An exception has occurred, use %tb to see '\n\u001B[0;32m   2053\u001B[0m                            'the full traceback.\\n']\n\u001B[1;32m-> 2054\u001B[1;33m                     stb.extend(self.InteractiveTB.get_exception_only(etype,\n\u001B[0m\u001B[0;32m   2055\u001B[0m                                                                      value))\n\u001B[0;32m   2056\u001B[0m                 \u001B[1;32melse\u001B[0m\u001B[1;33m:\u001B[0m\u001B[1;33m\u001B[0m\u001B[1;33m\u001B[0m\u001B[0m\n",
      "\u001B[1;32m~\\anaconda3\\envs\\DSMod1\\lib\\site-packages\\IPython\\core\\ultratb.py\u001B[0m in \u001B[0;36mget_exception_only\u001B[1;34m(self, etype, value)\u001B[0m\n\u001B[0;32m    752\u001B[0m         \u001B[0mvalue\u001B[0m \u001B[1;33m:\u001B[0m \u001B[0mexception\u001B[0m \u001B[0mvalue\u001B[0m\u001B[1;33m\u001B[0m\u001B[1;33m\u001B[0m\u001B[0m\n\u001B[0;32m    753\u001B[0m         \"\"\"\n\u001B[1;32m--> 754\u001B[1;33m         \u001B[1;32mreturn\u001B[0m \u001B[0mListTB\u001B[0m\u001B[1;33m.\u001B[0m\u001B[0mstructured_traceback\u001B[0m\u001B[1;33m(\u001B[0m\u001B[0mself\u001B[0m\u001B[1;33m,\u001B[0m \u001B[0metype\u001B[0m\u001B[1;33m,\u001B[0m \u001B[0mvalue\u001B[0m\u001B[1;33m)\u001B[0m\u001B[1;33m\u001B[0m\u001B[1;33m\u001B[0m\u001B[0m\n\u001B[0m\u001B[0;32m    755\u001B[0m \u001B[1;33m\u001B[0m\u001B[0m\n\u001B[0;32m    756\u001B[0m     \u001B[1;32mdef\u001B[0m \u001B[0mshow_exception_only\u001B[0m\u001B[1;33m(\u001B[0m\u001B[0mself\u001B[0m\u001B[1;33m,\u001B[0m \u001B[0metype\u001B[0m\u001B[1;33m,\u001B[0m \u001B[0mevalue\u001B[0m\u001B[1;33m)\u001B[0m\u001B[1;33m:\u001B[0m\u001B[1;33m\u001B[0m\u001B[1;33m\u001B[0m\u001B[0m\n",
      "\u001B[1;32m~\\anaconda3\\envs\\DSMod1\\lib\\site-packages\\IPython\\core\\ultratb.py\u001B[0m in \u001B[0;36mstructured_traceback\u001B[1;34m(self, etype, evalue, etb, tb_offset, context)\u001B[0m\n\u001B[0;32m    627\u001B[0m             \u001B[0mchained_exceptions_tb_offset\u001B[0m \u001B[1;33m=\u001B[0m \u001B[1;36m0\u001B[0m\u001B[1;33m\u001B[0m\u001B[1;33m\u001B[0m\u001B[0m\n\u001B[0;32m    628\u001B[0m             out_list = (\n\u001B[1;32m--> 629\u001B[1;33m                 self.structured_traceback(\n\u001B[0m\u001B[0;32m    630\u001B[0m                     \u001B[0metype\u001B[0m\u001B[1;33m,\u001B[0m \u001B[0mevalue\u001B[0m\u001B[1;33m,\u001B[0m \u001B[1;33m(\u001B[0m\u001B[0metb\u001B[0m\u001B[1;33m,\u001B[0m \u001B[0mchained_exc_ids\u001B[0m\u001B[1;33m)\u001B[0m\u001B[1;33m,\u001B[0m\u001B[1;33m\u001B[0m\u001B[1;33m\u001B[0m\u001B[0m\n\u001B[0;32m    631\u001B[0m                     chained_exceptions_tb_offset, context)\n",
      "\u001B[1;32m~\\anaconda3\\envs\\DSMod1\\lib\\site-packages\\IPython\\core\\ultratb.py\u001B[0m in \u001B[0;36mstructured_traceback\u001B[1;34m(self, etype, value, tb, tb_offset, number_of_lines_of_context)\u001B[0m\n\u001B[0;32m   1365\u001B[0m         \u001B[1;32melse\u001B[0m\u001B[1;33m:\u001B[0m\u001B[1;33m\u001B[0m\u001B[1;33m\u001B[0m\u001B[0m\n\u001B[0;32m   1366\u001B[0m             \u001B[0mself\u001B[0m\u001B[1;33m.\u001B[0m\u001B[0mtb\u001B[0m \u001B[1;33m=\u001B[0m \u001B[0mtb\u001B[0m\u001B[1;33m\u001B[0m\u001B[1;33m\u001B[0m\u001B[0m\n\u001B[1;32m-> 1367\u001B[1;33m         return FormattedTB.structured_traceback(\n\u001B[0m\u001B[0;32m   1368\u001B[0m             self, etype, value, tb, tb_offset, number_of_lines_of_context)\n\u001B[0;32m   1369\u001B[0m \u001B[1;33m\u001B[0m\u001B[0m\n",
      "\u001B[1;32m~\\anaconda3\\envs\\DSMod1\\lib\\site-packages\\IPython\\core\\ultratb.py\u001B[0m in \u001B[0;36mstructured_traceback\u001B[1;34m(self, etype, value, tb, tb_offset, number_of_lines_of_context)\u001B[0m\n\u001B[0;32m   1265\u001B[0m         \u001B[1;32mif\u001B[0m \u001B[0mmode\u001B[0m \u001B[1;32min\u001B[0m \u001B[0mself\u001B[0m\u001B[1;33m.\u001B[0m\u001B[0mverbose_modes\u001B[0m\u001B[1;33m:\u001B[0m\u001B[1;33m\u001B[0m\u001B[1;33m\u001B[0m\u001B[0m\n\u001B[0;32m   1266\u001B[0m             \u001B[1;31m# Verbose modes need a full traceback\u001B[0m\u001B[1;33m\u001B[0m\u001B[1;33m\u001B[0m\u001B[1;33m\u001B[0m\u001B[0m\n\u001B[1;32m-> 1267\u001B[1;33m             return VerboseTB.structured_traceback(\n\u001B[0m\u001B[0;32m   1268\u001B[0m                 \u001B[0mself\u001B[0m\u001B[1;33m,\u001B[0m \u001B[0metype\u001B[0m\u001B[1;33m,\u001B[0m \u001B[0mvalue\u001B[0m\u001B[1;33m,\u001B[0m \u001B[0mtb\u001B[0m\u001B[1;33m,\u001B[0m \u001B[0mtb_offset\u001B[0m\u001B[1;33m,\u001B[0m \u001B[0mnumber_of_lines_of_context\u001B[0m\u001B[1;33m\u001B[0m\u001B[1;33m\u001B[0m\u001B[0m\n\u001B[0;32m   1269\u001B[0m             )\n",
      "\u001B[1;32m~\\anaconda3\\envs\\DSMod1\\lib\\site-packages\\IPython\\core\\ultratb.py\u001B[0m in \u001B[0;36mstructured_traceback\u001B[1;34m(self, etype, evalue, etb, tb_offset, number_of_lines_of_context)\u001B[0m\n\u001B[0;32m   1122\u001B[0m         \u001B[1;34m\"\"\"Return a nice text document describing the traceback.\"\"\"\u001B[0m\u001B[1;33m\u001B[0m\u001B[1;33m\u001B[0m\u001B[0m\n\u001B[0;32m   1123\u001B[0m \u001B[1;33m\u001B[0m\u001B[0m\n\u001B[1;32m-> 1124\u001B[1;33m         formatted_exception = self.format_exception_as_a_whole(etype, evalue, etb, number_of_lines_of_context,\n\u001B[0m\u001B[0;32m   1125\u001B[0m                                                                tb_offset)\n\u001B[0;32m   1126\u001B[0m \u001B[1;33m\u001B[0m\u001B[0m\n",
      "\u001B[1;32m~\\anaconda3\\envs\\DSMod1\\lib\\site-packages\\IPython\\core\\ultratb.py\u001B[0m in \u001B[0;36mformat_exception_as_a_whole\u001B[1;34m(self, etype, evalue, etb, number_of_lines_of_context, tb_offset)\u001B[0m\n\u001B[0;32m   1080\u001B[0m \u001B[1;33m\u001B[0m\u001B[0m\n\u001B[0;32m   1081\u001B[0m \u001B[1;33m\u001B[0m\u001B[0m\n\u001B[1;32m-> 1082\u001B[1;33m         \u001B[0mlast_unique\u001B[0m\u001B[1;33m,\u001B[0m \u001B[0mrecursion_repeat\u001B[0m \u001B[1;33m=\u001B[0m \u001B[0mfind_recursion\u001B[0m\u001B[1;33m(\u001B[0m\u001B[0morig_etype\u001B[0m\u001B[1;33m,\u001B[0m \u001B[0mevalue\u001B[0m\u001B[1;33m,\u001B[0m \u001B[0mrecords\u001B[0m\u001B[1;33m)\u001B[0m\u001B[1;33m\u001B[0m\u001B[1;33m\u001B[0m\u001B[0m\n\u001B[0m\u001B[0;32m   1083\u001B[0m \u001B[1;33m\u001B[0m\u001B[0m\n\u001B[0;32m   1084\u001B[0m         \u001B[0mframes\u001B[0m \u001B[1;33m=\u001B[0m \u001B[0mself\u001B[0m\u001B[1;33m.\u001B[0m\u001B[0mformat_records\u001B[0m\u001B[1;33m(\u001B[0m\u001B[0mrecords\u001B[0m\u001B[1;33m,\u001B[0m \u001B[0mlast_unique\u001B[0m\u001B[1;33m,\u001B[0m \u001B[0mrecursion_repeat\u001B[0m\u001B[1;33m)\u001B[0m\u001B[1;33m\u001B[0m\u001B[1;33m\u001B[0m\u001B[0m\n",
      "\u001B[1;32m~\\anaconda3\\envs\\DSMod1\\lib\\site-packages\\IPython\\core\\ultratb.py\u001B[0m in \u001B[0;36mfind_recursion\u001B[1;34m(etype, value, records)\u001B[0m\n\u001B[0;32m    380\u001B[0m     \u001B[1;31m# first frame (from in to out) that looks different.\u001B[0m\u001B[1;33m\u001B[0m\u001B[1;33m\u001B[0m\u001B[1;33m\u001B[0m\u001B[0m\n\u001B[0;32m    381\u001B[0m     \u001B[1;32mif\u001B[0m \u001B[1;32mnot\u001B[0m \u001B[0mis_recursion_error\u001B[0m\u001B[1;33m(\u001B[0m\u001B[0metype\u001B[0m\u001B[1;33m,\u001B[0m \u001B[0mvalue\u001B[0m\u001B[1;33m,\u001B[0m \u001B[0mrecords\u001B[0m\u001B[1;33m)\u001B[0m\u001B[1;33m:\u001B[0m\u001B[1;33m\u001B[0m\u001B[1;33m\u001B[0m\u001B[0m\n\u001B[1;32m--> 382\u001B[1;33m         \u001B[1;32mreturn\u001B[0m \u001B[0mlen\u001B[0m\u001B[1;33m(\u001B[0m\u001B[0mrecords\u001B[0m\u001B[1;33m)\u001B[0m\u001B[1;33m,\u001B[0m \u001B[1;36m0\u001B[0m\u001B[1;33m\u001B[0m\u001B[1;33m\u001B[0m\u001B[0m\n\u001B[0m\u001B[0;32m    383\u001B[0m \u001B[1;33m\u001B[0m\u001B[0m\n\u001B[0;32m    384\u001B[0m     \u001B[1;31m# Select filename, lineno, func_name to track frames with\u001B[0m\u001B[1;33m\u001B[0m\u001B[1;33m\u001B[0m\u001B[1;33m\u001B[0m\u001B[0m\n",
      "\u001B[1;31mTypeError\u001B[0m: object of type 'NoneType' has no len()"
     ]
    }
   ]
  },
  {
   "cell_type": "markdown",
   "metadata": {
    "id": "CPpnxNTZ8Sug"
   },
   "source": [
    "### Data Preparation"
   ]
  },
  {
   "cell_type": "markdown",
   "metadata": {
    "id": "BxHoiN4bz8hJ"
   },
   "source": [
    "The following code converts the SAS formatted files into pandas dataframes.  \n",
    "Takes about 5 minutes."
   ]
  },
  {
   "cell_type": "code",
   "metadata": {
    "id": "kBJdvqnj8QmG"
   },
   "source": [
    "import pandas as pd\n",
    "try:\n",
    "  brfss2016 = pd.read_sas(\"LLCP2016.XPT\", format='xport')\n",
    "\n",
    "  brfss2017 = pd.read_sas(\"LLCP2017.XPT\", format='xport')\n",
    "\n",
    "  brfss2018 = pd.read_sas(\"LLCP2018.XPT\", format='xport')\n",
    "\n",
    "  brfss2019 = pd.read_sas(\"LLCP2019.XPT\", format='xport')\n",
    "\n",
    "  brfss2020 = pd.read_sas(\"LLCP2020.XPT\", format='xport')\n",
    "  print('All files were converted.')\n",
    "except:\n",
    "  sys.exit('File conversion was interrupted.')"
   ],
   "execution_count": null,
   "outputs": []
  },
  {
   "cell_type": "markdown",
   "metadata": {
    "id": "UexHs0Ps0dWT"
   },
   "source": [
    "(Optional) The following code deletes the no-longer-needed SAS files in order to free memory."
   ]
  },
  {
   "cell_type": "code",
   "metadata": {
    "colab": {
     "base_uri": "https://localhost:8080/"
    },
    "id": "PLRfAYwH0tGX",
    "outputId": "8dc09f4d-2f34-49a3-e4ae-fd345ae3935e"
   },
   "source": [
    "print(cleanup())"
   ],
   "execution_count": null,
   "outputs": []
  },
  {
   "cell_type": "markdown",
   "metadata": {
    "id": "1cHyZFUc-5_6"
   },
   "source": [
    "In order to test our hypothesis, 18 variables were chosen from the 279 columns."
   ]
  },
  {
   "cell_type": "markdown",
   "metadata": {
    "id": "W8InRDwx1vbB"
   },
   "source": [
    "Each year's data was reviewed for consistency of the variable fields.  \n",
    "There were some differences between the years, requiring renaming of some variable fields before merging all of the data into one dataframe. "
   ]
  },
  {
   "cell_type": "markdown",
   "metadata": {
    "id": "hSB_QPqLAuFz"
   },
   "source": [
    "![image.png](data:image/png;base64,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)"
   ]
  },
  {
   "cell_type": "markdown",
   "metadata": {
    "id": "AnCZJ0agBGCE"
   },
   "source": [
    "'_SEX' is not present before 2019; will convert 'SEXVAR' to 'SEX' for 2020, 2019  \n",
    "'SEX1' to 'SEX' for 2018; 'SEX' stays unchanged for 2017, 2016  \n",
    "'_RACEPRV' not present before 2020; will use '_RACE' for all years instead\n"
   ]
  },
  {
   "cell_type": "markdown",
   "metadata": {
    "id": "FZhuxRpwBiyR"
   },
   "source": [
    "The final list of 18 variables:  \n",
    "_STATE  \n",
    "SEX  \n",
    "_AGEG5YR  \n",
    "_EDUCAG  \n",
    "MARITAL  \n",
    "EMPLOY1  \n",
    "_INCOMG  \n",
    "DECIDE  \n",
    "DIFFWALK  \n",
    "DIFFALON  \n",
    "_RACE \n",
    "MENTHLTH  \n",
    "PHYSHLTH  \n",
    "POORHLTH  \n",
    "CSRVSUM  \n",
    "CSRVRTRN  \n",
    "CSRVINSR  \n",
    "CSRVPAIN"
   ]
  },
  {
   "cell_type": "markdown",
   "metadata": {
    "id": "bwCIUECMCWLS"
   },
   "source": [
    "Only the lung cancer survivors are selected, and since some of each year's data fields required renaming, each year is modified separately and then saved into an 18 column csv file."
   ]
  },
  {
   "cell_type": "code",
   "metadata": {
    "id": "qHVZZJ_qCUIK"
   },
   "source": [
    "cancer_vars2016 = ['_STATE', 'SEX', '_AGEG5YR', '_EDUCAG', 'MARITAL', 'EMPLOY1', '_INCOMG',\n",
    "               'DECIDE', 'DIFFWALK', 'DIFFALON', '_RACE', 'MENTHLTH',\n",
    "               'PHYSHLTH', 'POORHLTH','CSRVSUM', 'CSRVRTRN', 'CSRVINSR',\n",
    "               'CSRVPAIN']\n",
    "brfss2016 = brfss2016[(brfss2016[\"CNCRDIFF\"] <= 3) & (brfss2016[\"CNCRTYP1\"] == 24)]\n",
    "lungCancer2016 = brfss2016[cancer_vars2016]"
   ],
   "execution_count": null,
   "outputs": []
  },
  {
   "cell_type": "code",
   "metadata": {
    "id": "FEKuGb_PDf5E"
   },
   "source": [
    "cancer_vars2017 = ['_STATE', 'SEX', '_AGEG5YR', '_EDUCAG', 'MARITAL', 'EMPLOY1', '_INCOMG',\n",
    "               'DECIDE', 'DIFFWALK', 'DIFFALON', '_RACE', 'MENTHLTH',\n",
    "               'PHYSHLTH', 'POORHLTH','CSRVSUM', 'CSRVRTRN', 'CSRVINSR',\n",
    "               'CSRVPAIN']\n",
    "brfss2017 = brfss2017[(brfss2017[\"CNCRDIFF\"] <= 3) & (brfss2017[\"CNCRTYP1\"] == 24)]\n",
    "lungCancer2017 = brfss2017[cancer_vars2017]"
   ],
   "execution_count": null,
   "outputs": []
  },
  {
   "cell_type": "code",
   "metadata": {
    "colab": {
     "base_uri": "https://localhost:8080/"
    },
    "id": "H5hVyM7mDsyZ",
    "outputId": "e20ad97d-f6d7-410b-d2d2-27b1205161ec"
   },
   "source": [
    "cancer_vars2018 = ['_STATE', 'SEX1', '_AGEG5YR', '_EDUCAG', 'MARITAL', 'EMPLOY1', '_INCOMG',\n",
    "               'DECIDE', 'DIFFWALK', 'DIFFALON', '_RACE', 'MENTHLTH',\n",
    "               'PHYSHLTH', 'POORHLTH','CSRVSUM', 'CSRVRTRN', 'CSRVINSR',\n",
    "               'CSRVPAIN']\n",
    "brfss2018 = brfss2018[(brfss2018[\"CNCRDIFF\"] <= 3) & (brfss2018[\"CNCRTYP1\"] == 24)]\n",
    "lungCancer2018 = brfss2018[cancer_vars2018]\n",
    "lungCancer2018.rename(columns={'SEX1': 'SEX'}, inplace=True)"
   ],
   "execution_count": null,
   "outputs": []
  },
  {
   "cell_type": "code",
   "metadata": {
    "colab": {
     "base_uri": "https://localhost:8080/"
    },
    "id": "gLsxJ81kD3Lk",
    "outputId": "a78e88b7-208d-48d8-f430-03b212f79776"
   },
   "source": [
    "cancer_vars2019 = ['_STATE', 'SEXVAR', '_AGEG5YR', '_EDUCAG', 'MARITAL', 'EMPLOY1', '_INCOMG',\n",
    "               'DECIDE', 'DIFFWALK', 'DIFFALON', '_RACE', 'MENTHLTH',\n",
    "               'PHYSHLTH', 'POORHLTH','CSRVSUM', 'CSRVRTRN', 'CSRVINSR',\n",
    "               'CSRVPAIN']\n",
    "brfss2019 = brfss2019[(brfss2019[\"CNCRDIFF\"] <= 3) & (brfss2019[\"CNCRTYP1\"] == 24)]\n",
    "lungCancer2019 = brfss2019[cancer_vars2019]\n",
    "lungCancer2019.rename(columns={'SEXVAR': 'SEX'}, inplace=True)"
   ],
   "execution_count": null,
   "outputs": []
  },
  {
   "cell_type": "code",
   "metadata": {
    "colab": {
     "base_uri": "https://localhost:8080/"
    },
    "id": "cinYVuN_EBWk",
    "outputId": "0524f0fc-7db6-48d3-b8aa-2a64f9d0e88b"
   },
   "source": [
    "cancer_vars2020 = ['_STATE', 'SEXVAR', '_AGEG5YR', '_EDUCAG', 'MARITAL', 'EMPLOY1', '_INCOMG',\n",
    "               'DECIDE', 'DIFFWALK', 'DIFFALON', '_RACE', 'MENTHLTH',\n",
    "               'PHYSHLTH', 'POORHLTH','CSRVSUM', 'CSRVRTRN', 'CSRVINSR',\n",
    "               'CSRVPAIN']\n",
    "brfss2020 = brfss2020[(brfss2020[\"CNCRDIFF\"] <= 3) & (brfss2020[\"CNCRTYP1\"] == 24)]\n",
    "lungCancer2020= brfss2020[cancer_vars2020]\n",
    "lungCancer2020.rename(columns={'SEXVAR': 'SEX'}, inplace=True)"
   ],
   "execution_count": null,
   "outputs": []
  },
  {
   "cell_type": "markdown",
   "metadata": {
    "id": "PPmJMoONEMhe"
   },
   "source": [
    "The above 5 dataframes are combined into one dataframe."
   ]
  },
  {
   "cell_type": "code",
   "metadata": {
    "id": "vMkwzPITEi4F"
   },
   "source": [
    "FiveYrLungCancer = lungCancer2016.append(lungCancer2017)\n",
    "del(lungCancer2016)\n",
    "del(lungCancer2017)\n",
    "FiveYrLungCancer = FiveYrLungCancer.append(lungCancer2018)\n",
    "del(lungCancer2018)\n",
    "FiveYrLungCancer = FiveYrLungCancer.append(lungCancer2019)\n",
    "del(lungCancer2019)\n",
    "FiveYrLungCancer = FiveYrLungCancer.append(lungCancer2020)\n",
    "del(lungCancer2020)"
   ],
   "execution_count": null,
   "outputs": []
  },
  {
   "cell_type": "markdown",
   "metadata": {
    "id": "AIM-oe7wEucg"
   },
   "source": [
    "The dataframe of all lung cancer survivors is then saved into a CSV file."
   ]
  },
  {
   "cell_type": "code",
   "metadata": {
    "id": "Ju1R_0n1E-eE"
   },
   "source": [
    "FiveYrLungCancer = FiveYrLungCancer.reset_index()\n",
    "FiveYrLungCancer.to_csv('FiveYrLungCancer.csv')"
   ],
   "execution_count": null,
   "outputs": []
  },
  {
   "cell_type": "markdown",
   "metadata": {
    "id": "7FsnBlMWFmiG"
   },
   "source": [
    "This is a view of the final FiveYrLungCancer dataframe."
   ]
  },
  {
   "cell_type": "code",
   "metadata": {
    "colab": {
     "base_uri": "https://localhost:8080/",
     "height": 226
    },
    "id": "2pEHGwP7FxEn",
    "outputId": "7d89111c-219e-4266-c965-9630bb3d7872"
   },
   "source": [
    "FiveYrLungCancer.head()"
   ],
   "execution_count": null,
   "outputs": []
  },
  {
   "cell_type": "markdown",
   "metadata": {
    "id": "Je8uXRmTGMVq"
   },
   "source": [
    "Prior to running any modeling procedures, the FiveYrLungCancer dataframe was examined for missing data."
   ]
  },
  {
   "cell_type": "code",
   "metadata": {
    "colab": {
     "base_uri": "https://localhost:8080/",
     "height": 727
    },
    "id": "U6fU8ABvG5hM",
    "outputId": "ec61cf53-47b9-498d-e014-ceed0a97449c"
   },
   "source": [
    "import pandas as pd\n",
    "import numpy as np\n",
    "import seaborn as sns\n",
    "import plotly.express as px\n",
    "import matplotlib.pyplot as plt\n",
    "import matplotlib\n",
    "import plotnine\n",
    "from plotnine import *\n",
    "# plt.style.use('ggplot')\n",
    "\n",
    "# %matplotlib inline\n",
    "matplotlib.rcParams['figure.figsize'] = (6,4)\n",
    "\n",
    "pd.options.mode.chained_assignment = None\n",
    "# # read in all data\n",
    "data = pd.read_csv(\"FiveYrLungCancer.csv\")\n",
    "FiveYrLungCancer = data\n",
    "print(FiveYrLungCancer.shape)\n",
    "cols = FiveYrLungCancer.columns\n",
    "colours = ['#000099', '#ffff00'] # specify the colours - yellow is missing. blue is not missing.\n",
    "sns.heatmap(FiveYrLungCancer[cols].isnull(), cmap=sns.color_palette(colours))\n",
    "plt.title('All Missing Data in Five Years of Lung Cancer Data')\n",
    "plt.show()\n",
    "for col in FiveYrLungCancer.columns:\n",
    "    pct_missing = np.mean(FiveYrLungCancer[col].isnull())\n",
    "    print('{} - {}%'.format(col, round(pct_missing*100,3)))"
   ],
   "execution_count": null,
   "outputs": []
  },
  {
   "cell_type": "markdown",
   "metadata": {
    "id": "CVHhrm0OKkfc"
   },
   "source": [
    "Since the missing data varied depending on which response variable was to be modeled, it was decided to leave this dataframe intact.  \n",
    "The applicable missing data would be removed during the modeling process. "
   ]
  },
  {
   "cell_type": "markdown",
   "metadata": {
    "id": "-KCwHA4MIxM6"
   },
   "source": [
    "Essentially all of the variables that we planned to use as Predictor variables were complete.  \n",
    "\n",
    "For 3 of the variables that we planned to use as Response variables, the missing data is shown below."
   ]
  },
  {
   "cell_type": "code",
   "metadata": {
    "id": "QwIzFDhHJjSY",
    "colab": {
     "base_uri": "https://localhost:8080/",
     "height": 727
    },
    "outputId": "e53f0814-5900-4e37-e069-c887704c8efc"
   },
   "source": [
    "data = FiveYrLungCancer.loc[(~FiveYrLungCancer['CSRVSUM'].isnull())]\n",
    "lungCancer_Ok_csrvsum = data[(data['CSRVSUM']<3) & (data['CSRVRTRN']<3) & (data['CSRVINSR']<3)]\n",
    "print(lungCancer_Ok_csrvsum.shape)\n",
    "\n",
    "cols = lungCancer_Ok_csrvsum.columns # first 30 columns\n",
    "colours = ['#000099', '#ffff00'] # specify the colours - yellow is missing. blue is not missing.\n",
    "sns.heatmap(lungCancer_Ok_csrvsum[cols].isnull(), cmap=sns.color_palette(colours))\n",
    "plt.title('Missing Data Removed for CSRVSUM, CSRVRTRN, CSRVINSR  in Five Years of Lung Cancer Data')\n",
    "plt.show()\n",
    "for col in lungCancer_Ok_csrvsum.columns:\n",
    "    pct_missing = np.mean(lungCancer_Ok_csrvsum[col].isnull())\n",
    "    print('{} - {}%'.format(col, round(pct_missing*100,3)))"
   ],
   "execution_count": null,
   "outputs": []
  },
  {
   "cell_type": "markdown",
   "metadata": {
    "id": "qzl-_WbFJ3E-"
   },
   "source": [
    "For the other Response variable, the missing data is shown below."
   ]
  },
  {
   "cell_type": "code",
   "metadata": {
    "id": "zx9rcAF5J_KB",
    "colab": {
     "base_uri": "https://localhost:8080/",
     "height": 727
    },
    "outputId": "2ab03b95-05e9-4735-bc67-09b414199bfe"
   },
   "source": [
    "data = FiveYrLungCancer.loc[(~FiveYrLungCancer['CSRVPAIN'].isnull())]\n",
    "lungCancer_Ok_csrvpain = data[(data['CSRVPAIN']<3)]\n",
    "print(lungCancer_Ok_csrvpain.shape)\n",
    "cols = lungCancer_Ok_csrvpain.columns # first 30 columns\n",
    "colours = ['#000099', '#ffff00'] # specify the colours - yellow is missing. blue is not missing.\n",
    "sns.heatmap(lungCancer_Ok_csrvpain[cols].isnull(), cmap=sns.color_palette(colours))\n",
    "plt.title('Missing Data Removed for CSRVPAIN in Five Years of Lung Cancer Data')\n",
    "plt.show()\n",
    "for col in lungCancer_Ok_csrvpain.columns:\n",
    "    pct_missing = np.mean(lungCancer_Ok_csrvpain[col].isnull())\n",
    "    print('{} - {}%'.format(col, round(pct_missing*100,3)))"
   ],
   "execution_count": null,
   "outputs": []
  },
  {
   "cell_type": "markdown",
   "metadata": {
    "id": "S6WDS1GrLc3q"
   },
   "source": [
    "### Data Exploration"
   ]
  },
  {
   "cell_type": "code",
   "metadata": {
    "id": "nYSjRYoM3EbK"
   },
   "source": [
    "import copy\n",
    "lungCancer = copy.deepcopy(FiveYrLungCancer)"
   ],
   "execution_count": null,
   "outputs": []
  },
  {
   "cell_type": "code",
   "metadata": {
    "id": "EjIlKleqznbx"
   },
   "source": [
    "lungCancer_state = lungCancer._STATE.drop_duplicates()\n",
    "lungCancer_state = list(lungCancer_state)"
   ],
   "execution_count": null,
   "outputs": []
  },
  {
   "cell_type": "code",
   "metadata": {
    "id": "6L0CIsF-z2TQ"
   },
   "source": [
    "cdc_state = {1: 'Alabama', \n",
    "             2: 'Alaska', \n",
    "             4: 'Arizona',\n",
    "             5: 'Arkansas',\n",
    "             6: 'California',\n",
    "             8: 'Colorado',\n",
    "             9: 'Connecticut',\n",
    "             10: 'Delaware',\n",
    "             11: 'District of Columbia',\n",
    "             12: 'Florida',\n",
    "             13: 'Georgia',\n",
    "             15: 'Hawaii',\n",
    "             16: 'Idaho',\n",
    "             17: 'Illinois',\n",
    "             18: 'Indiana',\n",
    "             19: 'Iowa',\n",
    "             20: 'Kansas',\n",
    "             21: 'Kentucky',\n",
    "             22: 'Louisiana',\n",
    "             23: 'Maine',\n",
    "             24: 'Maryland',\n",
    "             25: 'Massachusetts',\n",
    "             26: 'Michigan',\n",
    "             27: 'Minnesota',\n",
    "             28: 'Mississippi',\n",
    "             29: 'Missouri',\n",
    "             30: 'Montana',\n",
    "             31: 'Nebraska',\n",
    "             32: 'Nevada',\n",
    "             33: 'New Hampshire',\n",
    "             34: 'New Jersey',\n",
    "             35: 'New Mexico',\n",
    "             36: 'New York',\n",
    "             37: 'North Carolina',\n",
    "             38: 'North Dakota',\n",
    "             39: 'Ohio',\n",
    "             40: 'Oklahoma',\n",
    "             41: 'Oregon',\n",
    "             42: 'Pennsylvania',\n",
    "             44: 'Rhode Island',\n",
    "             45: 'South Carolina',\n",
    "             46: 'South Dakota',\n",
    "             47: 'Tennessee',\n",
    "             48: 'Texas',\n",
    "             49: 'Utah',\n",
    "             50: 'Vermont',\n",
    "             51: 'Virginia',\n",
    "             53: 'Washington',\n",
    "             54: 'West Virginia',\n",
    "             55: 'Wisconsin',\n",
    "             56: 'Wyoming',\n",
    "             66: 'Guam',\n",
    "             72: 'Puerto Rico'}"
   ],
   "execution_count": null,
   "outputs": []
  },
  {
   "cell_type": "code",
   "metadata": {
    "id": "2oEaEqDuz8lF"
   },
   "source": [
    "cdc_abb = {\n",
    "    'Alabama': 'AL', \n",
    "    'Alaska': 'AK', \n",
    "    'Arizona': 'AZ', \n",
    "    'Arkansas': 'AR', \n",
    "    'California': 'CA', \n",
    "    'Colorado': 'CO', \n",
    "    'Connecticut': 'CT', \n",
    "    'Delaware': 'DE', \n",
    "    'District of Columbia': 'DC', \n",
    "    'Florida': 'FL', \n",
    "    'Georgia': 'GA', \n",
    "    'Hawaii': 'HI', \n",
    "    'Idaho': 'ID', \n",
    "    'Illinois': 'IL', \n",
    "    'Indiana': 'IN', \n",
    "    'Iowa': 'IA', \n",
    "    'Kansas': 'KS', \n",
    "    'Kentucky': 'KY', \n",
    "    'Louisiana': 'LA', \n",
    "    'Maine': 'ME', \n",
    "    'Maryland': 'MD', \n",
    "    'Massachusetts': 'MA', \n",
    "    'Michigan': 'MI', \n",
    "    'Minnesota': 'MN', \n",
    "    'Mississippi': 'MS', \n",
    "    'Missouri': 'MO', \n",
    "    'Montana': 'MT', \n",
    "    'Nebraska': 'NE', \n",
    "    'Nevada': 'NV', \n",
    "    'New Hampshire': 'NH', \n",
    "    'New Jersey': 'NJ', \n",
    "    'New Mexico': 'NM', \n",
    "    'New York': 'NY', \n",
    "    'North Carolina': 'NC', \n",
    "    'North Dakota': 'ND', \n",
    "    'Ohio': 'OH', \n",
    "    'Oklahoma': 'OK', \n",
    "    'Oregon': 'OR', \n",
    "    'Pennsylvania': 'PA', \n",
    "    'Rhode Island': 'RI', \n",
    "    'South Carolina': 'SC', \n",
    "    'South Dakota': 'SD', \n",
    "    'Tennessee': 'TN', \n",
    "    'Texas': 'TX', \n",
    "    'Utah': 'UT', \n",
    "    'Vermont': 'VT', \n",
    "    'Virginia': 'VA', \n",
    "    'Washington': 'WA', \n",
    "    'West Virginia': 'WV', \n",
    "    'Wisconsin': 'WI', \n",
    "    'Wyoming': 'WY', \n",
    "    'Guam': 'GU', \n",
    "    'Puerto Rico': 'PR'\n",
    "}"
   ],
   "execution_count": null,
   "outputs": []
  },
  {
   "cell_type": "code",
   "metadata": {
    "id": "TX4wdomh0FD8"
   },
   "source": [
    "LCS_state_counts = lungCancer['_STATE'].value_counts().rename_axis('States Abbreviation').reset_index(name='Lung Cancer Interviewee Count')"
   ],
   "execution_count": null,
   "outputs": []
  },
  {
   "cell_type": "code",
   "metadata": {
    "id": "8rItMhaa0RjX"
   },
   "source": [
    "LCS_state_counts['States Abbreviation'] =  [cdc_abb[cdc_state[item]] for item in LCS_state_counts['States Abbreviation']]"
   ],
   "execution_count": null,
   "outputs": []
  },
  {
   "cell_type": "code",
   "metadata": {
    "id": "jrcj5D151Np3"
   },
   "source": [
    "LCS_state_counts.to_csv('LCS_state_counts.csv', index=False)\n",
    "state_df = pd.read_csv('LCS_state_counts.csv')"
   ],
   "execution_count": null,
   "outputs": []
  },
  {
   "cell_type": "code",
   "metadata": {
    "id": "MGsw0AJ2073I",
    "colab": {
     "base_uri": "https://localhost:8080/",
     "height": 542
    },
    "outputId": "a0456be8-c1cf-46f1-a59d-6e39b3e1f761"
   },
   "source": [
    "fig = px.choropleth(state_df,  # Input Pandas DataFrame\n",
    "                    locations=state_df['States Abbreviation'],  # DataFrame column with locations\n",
    "                    color=state_df['Lung Cancer Interviewee Count'],  # DataFrame column with color values\n",
    "                    hover_name='States Abbreviation', # DataFrame column hover info\n",
    "                    locationmode = 'USA-states', scope = 'usa') # Set to plot as US States\n",
    "\n",
    "fig.show()"
   ],
   "execution_count": null,
   "outputs": []
  },
  {
   "cell_type": "code",
   "metadata": {
    "id": "lQc8dMzs3n3K"
   },
   "source": [
    "# Converting 1s and 2s into Male and Female\n",
    "lungCancer.loc[lungCancer['SEX'] == 1, 'SEX'] = 'Male'\n",
    "lungCancer.loc[lungCancer['SEX'] == 2, 'SEX'] = 'Female'"
   ],
   "execution_count": null,
   "outputs": []
  },
  {
   "cell_type": "code",
   "metadata": {
    "id": "Jy9NP4xQ3qUG"
   },
   "source": [
    "# Converting nums into race\n",
    "lungCancer.loc[lungCancer['_RACE'] == 1, '_RACE'] = 'White only, non-Hispanic'\n",
    "lungCancer.loc[lungCancer['_RACE'] == 2, '_RACE'] = 'Black only, non-Hispanic'\n",
    "lungCancer.loc[lungCancer['_RACE'] == 3, '_RACE'] = 'American Indian or Alaskan Native only, Non-Hispanic'\n",
    "lungCancer.loc[lungCancer['_RACE'] == 4, '_RACE'] = 'Asian only, non-Hispanic'\n",
    "lungCancer.loc[lungCancer['_RACE'] == 5, '_RACE'] = 'Native Hawaiian or other Pacific Islander only, Non-Hispanic'\n",
    "lungCancer.loc[lungCancer['_RACE'] == 6, '_RACE'] = 'Other race only, non-Hispanic'\n",
    "lungCancer.loc[lungCancer['_RACE'] == 7, '_RACE'] = 'Multiracial, non-Hispanic'\n",
    "lungCancer.loc[lungCancer['_RACE'] == 8, '_RACE'] = 'Hispanic'\n",
    "lungCancer.loc[lungCancer['_RACE'] == 9, '_RACE'] = 'Unknown'"
   ],
   "execution_count": null,
   "outputs": []
  },
  {
   "cell_type": "code",
   "metadata": {
    "id": "LPaFhiaM3uLC"
   },
   "source": [
    "# Converting age nums into age bins\n",
    "lungCancer.loc[lungCancer['_AGEG5YR'] == 1, '_AGEG5YR'] = 'Age 18 to 24'\n",
    "lungCancer.loc[lungCancer['_AGEG5YR'] == 2, '_AGEG5YR'] = 'Age 25 to 29'\n",
    "lungCancer.loc[lungCancer['_AGEG5YR'] == 3, '_AGEG5YR'] = 'Age 30 to 34'\n",
    "lungCancer.loc[lungCancer['_AGEG5YR'] == 4, '_AGEG5YR'] = 'Age 35 to 39'\n",
    "lungCancer.loc[lungCancer['_AGEG5YR'] == 5, '_AGEG5YR'] = 'Age 40 to 44'\n",
    "lungCancer.loc[lungCancer['_AGEG5YR'] == 6, '_AGEG5YR'] = 'Age 45 to 49'\n",
    "lungCancer.loc[lungCancer['_AGEG5YR'] == 7, '_AGEG5YR'] = 'Age 50 to 54'\n",
    "lungCancer.loc[lungCancer['_AGEG5YR'] == 8, '_AGEG5YR'] = 'Age 55 to 59'\n",
    "lungCancer.loc[lungCancer['_AGEG5YR'] == 9, '_AGEG5YR'] = 'Age 60 to 64'\n",
    "lungCancer.loc[lungCancer['_AGEG5YR'] == 10, '_AGEG5YR'] = 'Age 65 to 69'\n",
    "lungCancer.loc[lungCancer['_AGEG5YR'] == 11, '_AGEG5YR'] = 'Age 70 to 74'\n",
    "lungCancer.loc[lungCancer['_AGEG5YR'] == 12, '_AGEG5YR'] = 'Age 75 to 79'\n",
    "lungCancer.loc[lungCancer['_AGEG5YR'] == 13, '_AGEG5YR'] = 'Age 80 or older'\n",
    "lungCancer.loc[lungCancer['_AGEG5YR'] == 14, '_AGEG5YR'] = 'Don’t know/Refused/Missing'"
   ],
   "execution_count": null,
   "outputs": []
  },
  {
   "cell_type": "code",
   "metadata": {
    "id": "psKTuPJpxtk5",
    "colab": {
     "base_uri": "https://localhost:8080/",
     "height": 523
    },
    "outputId": "118824c5-8c51-4c74-d79f-d2e216890d5e"
   },
   "source": [
    "# Code for proportion between race and sex\n",
    "(ggplot(lungCancer, aes('_RACE', fill='SEX'))\n",
    " + geom_bar(position='fill') + labs(x='Race', y='Proportion', title='Proportion of Sex by Race among Interviewee with Lung Cancer') \n",
    " + coord_flip()\n",
    " + theme(axis_text_x = element_text(angle = 90, vjust = 1.0, hjust=0.5))\n",
    ")"
   ],
   "execution_count": null,
   "outputs": []
  },
  {
   "cell_type": "code",
   "metadata": {
    "id": "O0KTw6Cu4I0z",
    "colab": {
     "base_uri": "https://localhost:8080/",
     "height": 823
    },
    "outputId": "0ad8a03d-6587-4806-f1ca-a0b3c1bc2169"
   },
   "source": [
    "# Code for IQR\n",
    "(\n",
    "    ggplot(lungCancer, aes('_AGEG5YR', fill = 'SEX')) + geom_histogram() \n",
    "    + labs(x='Age Groups', y='Counts', title='Sex Counts of Lung Cancer Interviewee by Age Group')\n",
    "    + theme(axis_text_x = element_text(angle = 90, vjust = 1.0, hjust=0.5))\n",
    ")"
   ],
   "execution_count": null,
   "outputs": []
  },
  {
   "cell_type": "code",
   "metadata": {
    "id": "ou8Yu3EggRzP",
    "colab": {
     "base_uri": "https://localhost:8080/",
     "height": 294
    },
    "outputId": "38293c29-19e3-4b4a-9041-259ee040a20a"
   },
   "source": [
    "FiveYrLungCancer['index'].groupby(FiveYrLungCancer['SEX']).count().plot.bar()\n",
    "plt.title('Lung Cancer Survivors by Sex')\n",
    "plt.ylabel('Count')\n",
    "plt.xticks(ticks=np.arange(2),labels=('M','F'))\n",
    "\n",
    "plt.show()"
   ],
   "execution_count": null,
   "outputs": []
  },
  {
   "cell_type": "code",
   "metadata": {
    "id": "7BmY17Wajkk8",
    "colab": {
     "base_uri": "https://localhost:8080/",
     "height": 295
    },
    "outputId": "f69ce9a5-32e6-424c-8978-8e2dd2c65c35"
   },
   "source": [
    "FiveYrLungCancer['index'].groupby(FiveYrLungCancer['_EDUCAG']).count().plot.barh()\n",
    "plt.title('Lung Cancer Survivors by Education')\n",
    "plt.xlabel('Count')\n",
    "plt.yticks(ticks=np.arange(5),labels=('<HS','HS','<BS','BS','UNK'))\n",
    "plt.show()"
   ],
   "execution_count": null,
   "outputs": []
  },
  {
   "cell_type": "code",
   "metadata": {
    "id": "xcyXJcgyjwLz",
    "colab": {
     "base_uri": "https://localhost:8080/",
     "height": 295
    },
    "outputId": "00aa6ff2-114d-4b1b-8290-d7d22ffb2395"
   },
   "source": [
    "FiveYrLungCancer['index'].groupby(FiveYrLungCancer['MARITAL']).count().plot.barh()\n",
    "plt.title('Lung Cancer Survivors by Marital Status')\n",
    "plt.xlabel('Count')\n",
    "plt.yticks(ticks=np.arange(7),labels=('M','D','W','S','NM','U','Ref'))\n",
    "plt.show()"
   ],
   "execution_count": null,
   "outputs": []
  },
  {
   "cell_type": "code",
   "metadata": {
    "id": "92I8Fixgj4pA",
    "colab": {
     "base_uri": "https://localhost:8080/",
     "height": 295
    },
    "outputId": "1f7234c9-4e0b-49a8-df89-53c1426f129c"
   },
   "source": [
    "FiveYrLungCancer['index'].groupby(FiveYrLungCancer['EMPLOY1']).count().plot.barh()\n",
    "plt.title('Lung Cancer Survivors by Employment')\n",
    "plt.xlabel('Count')\n",
    "plt.yticks(ticks=np.arange(9),labels=('Wage','Self','U>1y','U<1y','Home','Stud','Ret','Dis','Ref'))\n",
    "plt.show()"
   ],
   "execution_count": null,
   "outputs": []
  },
  {
   "cell_type": "code",
   "metadata": {
    "id": "o1p9QmXyj_zN",
    "colab": {
     "base_uri": "https://localhost:8080/",
     "height": 295
    },
    "outputId": "12e6529a-0388-442a-9e7d-95ef1aef4478"
   },
   "source": [
    "FiveYrLungCancer['index'].groupby(FiveYrLungCancer['_INCOMG']).count().plot.barh()\n",
    "plt.title('Lung Cancer Survivors by Income')\n",
    "plt.xlabel('Count')\n",
    "plt.yticks(ticks=np.arange(6),labels=('<15K','15-25K','25-35K','35-50K','>50K','Unk'))\n",
    "plt.show()"
   ],
   "execution_count": null,
   "outputs": []
  },
  {
   "cell_type": "code",
   "metadata": {
    "id": "v1UatDtukMYp",
    "colab": {
     "base_uri": "https://localhost:8080/",
     "height": 295
    },
    "outputId": "8dea0c3b-1263-4e27-97bd-7300c3ca7722"
   },
   "source": [
    "FiveYrLungCancer['index'].groupby(FiveYrLungCancer['_RACE']).count().plot.barh()\n",
    "plt.title('Lung Cancer Survivors by Race')\n",
    "plt.xlabel('Count')\n",
    "plt.yticks(ticks=np.arange(9),labels=('W','B','AmIn','Asian','Pac','Oth','Multi','Hisp','Unk'))\n",
    "plt.show()"
   ],
   "execution_count": null,
   "outputs": []
  },
  {
   "cell_type": "code",
   "metadata": {
    "id": "n6ETPqcrkZ9E",
    "colab": {
     "base_uri": "https://localhost:8080/",
     "height": 295
    },
    "outputId": "92059b83-e416-4924-925f-92a2f35dd729"
   },
   "source": [
    "FiveYrLungCancer['index'].groupby(FiveYrLungCancer['DECIDE']).count().plot.barh()\n",
    "plt.title('Lung Cancer Survivors by Difficulty Making Decisions')\n",
    "plt.xlabel('Count')\n",
    "plt.yticks(ticks=np.arange(4),labels=('Yes','No','Unk','Ref'))\n",
    "plt.show()"
   ],
   "execution_count": null,
   "outputs": []
  },
  {
   "cell_type": "code",
   "metadata": {
    "id": "hCpYUY6-kgP9",
    "colab": {
     "base_uri": "https://localhost:8080/",
     "height": 295
    },
    "outputId": "a99dbdf7-07c8-4cfe-a229-e70517ee190e"
   },
   "source": [
    "FiveYrLungCancer['index'].groupby(FiveYrLungCancer['DIFFALON']).count().plot.barh()\n",
    "plt.title('Lung Cancer Survivors by Difficulty with Errands')\n",
    "plt.xlabel('Count')\n",
    "plt.yticks(ticks=np.arange(4),labels=('Yes','No','Unk','Ref'))\n",
    "plt.show()"
   ],
   "execution_count": null,
   "outputs": []
  },
  {
   "cell_type": "code",
   "metadata": {
    "id": "WrVp-4QLk9WV",
    "colab": {
     "base_uri": "https://localhost:8080/",
     "height": 295
    },
    "outputId": "01e5540f-b9c0-4180-a2db-7471d2efaac0"
   },
   "source": [
    "FiveYrLungCancer['index'].groupby(FiveYrLungCancer['_STATE']).count().plot.barh()\n",
    "plt.title('Lung Cancer Survivors by State')\n",
    "plt.xlabel('Count')\n",
    "plt.yticks(ticks=np.arange(25),labels=('AZ','CT','DE','GA','HI','ID','IN','LA','MA','MI','MS','MO','MT','NE','NJ','NM','NC','SC','UT','VT','VA','WI','WY','GUAM'))\n",
    "plt.show()"
   ],
   "execution_count": null,
   "outputs": []
  },
  {
   "cell_type": "code",
   "metadata": {
    "id": "U32WKsuN4mri"
   },
   "source": [
    "# Converting CSRVSUM numeric values to CDC labels\n",
    "lungCancer.loc[lungCancer['CSRVSUM'] == 1, 'CSRVSUM'] = 'Yes'\n",
    "lungCancer.loc[lungCancer['CSRVSUM'] == 2, 'CSRVSUM'] = 'No'\n",
    "lungCancer.loc[lungCancer['CSRVSUM'] == 7, 'CSRVSUM'] = 'Don’t know/Not Sure '\n",
    "lungCancer.loc[lungCancer['CSRVSUM'] == 9, 'CSRVSUM'] = 'Refused'\n",
    "lungCancer['CSRVSUM'] = lungCancer['CSRVSUM'].fillna('Not asked or Missing')"
   ],
   "execution_count": null,
   "outputs": []
  },
  {
   "cell_type": "code",
   "metadata": {
    "id": "KbudMVT_4w6-"
   },
   "source": [
    "# Converting CSRVRTRN numeric values to CDC labels\n",
    "lungCancer.loc[lungCancer['CSRVRTRN'] == 1, 'CSRVRTRN'] = 'Yes'\n",
    "lungCancer.loc[lungCancer['CSRVRTRN'] == 2, 'CSRVRTRN'] = 'No'\n",
    "lungCancer.loc[lungCancer['CSRVRTRN'] == 7, 'CSRVRTRN'] = 'Don’t know/Not Sure '\n",
    "lungCancer.loc[lungCancer['CSRVRTRN'] == 9, 'CSRVRTRN'] = 'Refused'\n",
    "lungCancer['CSRVRTRN'] = lungCancer['CSRVRTRN'].fillna('Not asked or Missing')"
   ],
   "execution_count": null,
   "outputs": []
  },
  {
   "cell_type": "code",
   "metadata": {
    "id": "5iz1Zdie4yHs"
   },
   "source": [
    "# Converting CSRVINSR numeric values to CDC labels\n",
    "lungCancer.loc[lungCancer['CSRVINSR'] == 1, 'CSRVINSR'] = 'Yes'\n",
    "lungCancer.loc[lungCancer['CSRVINSR'] == 2, 'CSRVINSR'] = 'No'\n",
    "lungCancer.loc[lungCancer['CSRVINSR'] == 7, 'CSRVINSR'] = 'Don’t know/Not Sure '\n",
    "lungCancer.loc[lungCancer['CSRVINSR'] == 9, 'CSRVINSR'] = 'Refused'\n",
    "lungCancer['CSRVINSR'] = lungCancer['CSRVINSR'].fillna('Not asked or Missing')"
   ],
   "execution_count": null,
   "outputs": []
  },
  {
   "cell_type": "code",
   "metadata": {
    "id": "mEZyDhdg40mX"
   },
   "source": [
    "# Converting CSRVPAIN numeric values to CDC labels\n",
    "lungCancer.loc[lungCancer['CSRVPAIN'] == 1, 'CSRVPAIN'] = 'Yes'\n",
    "lungCancer.loc[lungCancer['CSRVPAIN'] == 2, 'CSRVPAIN'] = 'No'\n",
    "lungCancer.loc[lungCancer['CSRVPAIN'] == 7, 'CSRVPAIN'] = 'Don’t know/Not Sure '\n",
    "lungCancer.loc[lungCancer['CSRVPAIN'] == 9, 'CSRVPAIN'] = 'Refused'\n",
    "lungCancer['CSRVPAIN'] = lungCancer['CSRVPAIN'].fillna('Not asked or Missing')"
   ],
   "execution_count": null,
   "outputs": []
  },
  {
   "cell_type": "code",
   "metadata": {
    "id": "0jspKBMw47_l",
    "colab": {
     "base_uri": "https://localhost:8080/",
     "height": 662
    },
    "outputId": "62517e43-9237-4585-f436-b8dcd6e03bd4"
   },
   "source": [
    "(\n",
    "    ggplot(lungCancer, aes('CSRVSUM')) + geom_histogram(fill='purple')\n",
    "    + labs(x='CSRVSUM', y='Count', title='Counts of Categories Within CSRVSUM')\n",
    ")"
   ],
   "execution_count": null,
   "outputs": []
  },
  {
   "cell_type": "code",
   "metadata": {
    "id": "rqVX_SJX5EtN",
    "colab": {
     "base_uri": "https://localhost:8080/",
     "height": 662
    },
    "outputId": "ad75be57-c05d-44fc-9e16-3c3ae8aa2455"
   },
   "source": [
    "(\n",
    "    ggplot(lungCancer, aes('CSRVRTRN')) + geom_histogram(fill='orange')\n",
    "    + labs(x='CSRVRTRN', y='Count', title='Counts of Categories Within CSRVRTRN')\n",
    ")"
   ],
   "execution_count": null,
   "outputs": []
  },
  {
   "cell_type": "code",
   "metadata": {
    "id": "5k1V2CEq5Kee",
    "colab": {
     "base_uri": "https://localhost:8080/",
     "height": 662
    },
    "outputId": "2edf5894-897f-494a-ab1c-0c5cd7c773a5"
   },
   "source": [
    "(\n",
    "    ggplot(lungCancer, aes('CSRVINSR')) + geom_histogram(fill='teal')\n",
    "    + labs(x='CSRVINSR', y='Count', title='Counts of Categories Within CSRVINSR')\n",
    ")"
   ],
   "execution_count": null,
   "outputs": []
  },
  {
   "cell_type": "code",
   "metadata": {
    "id": "_nR63-yW5Oir",
    "colab": {
     "base_uri": "https://localhost:8080/",
     "height": 662
    },
    "outputId": "7d8ca88a-a733-430e-d5eb-5ec0c1694071"
   },
   "source": [
    "(\n",
    "    ggplot(lungCancer, aes('CSRVPAIN')) + geom_histogram(fill='green')\n",
    "    + labs(x='CSRVPAIN', y='Count', title='Counts of Categories Within CSRVPAIN')\n",
    ")"
   ],
   "execution_count": null,
   "outputs": []
  },
  {
   "cell_type": "markdown",
   "metadata": {
    "id": "pMzSA_VmnNAL"
   },
   "source": [
    "### Modeling with R "
   ]
  },
  {
   "cell_type": "code",
   "metadata": {
    "id": "IebvA_VZ2UlS"
   },
   "source": [
    "%load_ext rpy2.ipython"
   ],
   "execution_count": null,
   "outputs": []
  },
  {
   "cell_type": "markdown",
   "metadata": {
    "id": "tTSaO2oeikR3"
   },
   "source": [
    "#### Logistic Regression for Predictor _EDUCAG & Response Variable CSRVSUM"
   ]
  },
  {
   "cell_type": "code",
   "metadata": {
    "id": "9DpRSzxTHgC6"
   },
   "source": [
    "data = copy.deepcopy(FiveYrLungCancer)\n",
    "# remove unwanted levels\n",
    "data = data[(data['CSRVSUM']<3) & (data['CSRVRTRN']<3) & (data['CSRVINSR']<3)]\n",
    "data = data[(data['_EDUCAG']<5)]\n",
    "\n",
    "data01 = copy.deepcopy(data)\n",
    "data01.to_csv('data01.csv')"
   ],
   "execution_count": null,
   "outputs": []
  },
  {
   "cell_type": "code",
   "metadata": {
    "id": "Bm-vE2OO_h96"
   },
   "source": [
    "%%R\n",
    "Data <- read.csv('data01.csv')\n",
    "\n",
    "Data[,5]<-factor(Data[,5])\n",
    "Data[,6]<-factor(Data[,6])\n",
    "Data[,7]<-factor(Data[,7])\n",
    "Data[,8]<-factor(Data[,8])\n",
    "Data[,9]<-factor(Data[,9])\n",
    "Data[,10]<-factor(Data[,10])\n",
    "Data[,11]<-factor(Data[,11])\n",
    "Data[,12]<-factor(Data[,12])\n",
    "Data[,13]<-factor(Data[,13])\n",
    "Data[,14]<-factor(Data[,14])\n",
    "\n",
    "Data[,18]<-factor(Data[,18])\n",
    "Data[,19]<-factor(Data[,19])\n",
    "Data[,20]<-factor(Data[,20])\n",
    "Data[,21]<-factor(Data[,21])\n",
    "\n",
    "Data[,5]<-relevel(Data[,5], ref=\"1\")\n",
    "Data[,6]<-relevel(Data[,6], ref=\"1\")\n",
    "Data[,7]<-relevel(Data[,7], ref=\"1\")\n",
    "Data[,8]<-relevel(Data[,8], ref=\"1\")\n",
    "Data[,9]<-relevel(Data[,9], ref=\"1\")\n",
    "Data[,10]<-relevel(Data[,10], ref=\"1\")\n",
    "Data[,11]<-relevel(Data[,11], ref=\"1\")\n",
    "Data[,12]<-relevel(Data[,12], ref=\"1\")\n",
    "Data[,13]<-relevel(Data[,13], ref=\"1\")\n",
    "Data[,14]<-relevel(Data[,14], ref=\"1\")\n",
    "\n",
    "Data[,18]<-relevel(Data[,18], ref=\"1\")\n",
    "Data[,19]<-relevel(Data[,19], ref=\"1\")\n",
    "Data[,20]<-relevel(Data[,20], ref=\"1\")\n",
    "Data[,21]<-relevel(Data[,21], ref=\"1\")\n"
   ],
   "execution_count": null,
   "outputs": []
  },
  {
   "cell_type": "code",
   "metadata": {
    "id": "imiJ0DrYKFbL",
    "colab": {
     "base_uri": "https://localhost:8080/"
    },
    "outputId": "c8bc87a9-1d6a-488a-cc95-d767eb466d3f"
   },
   "source": [
    "%%R\n",
    "set.seed(1)\n",
    "sample<-sample.int(nrow(Data), floor(.80*nrow(Data)), replace = F)\n",
    "train<-Data[sample, ]\n",
    "test<-Data[-sample, ]\n",
    "\n",
    "# ##full model\n",
    "result<-glm(CSRVSUM ~ X_EDUCAG, family = \"binomial\", data=train)\n",
    "summary(result)"
   ],
   "execution_count": null,
   "outputs": []
  },
  {
   "cell_type": "code",
   "metadata": {
    "id": "AD_w4SKpZrqZ",
    "colab": {
     "base_uri": "https://localhost:8080/"
    },
    "outputId": "a8f55f0e-8cb2-4f15-b2ca-3115e3d9ba7f"
   },
   "source": [
    "%%R\n",
    "TS<-result$null.deviance-result$deviance\n",
    "print(paste(\"p-value = \", 1-pchisq(TS,4)))"
   ],
   "execution_count": null,
   "outputs": []
  },
  {
   "cell_type": "code",
   "metadata": {
    "id": "EG68cqSjcuhO"
   },
   "source": [
    "%%R\n",
    "#use model to predict value of CSRVSUM\n",
    "preds<-predict(result, newdata=test, type=\"response\")"
   ],
   "execution_count": null,
   "outputs": []
  },
  {
   "cell_type": "code",
   "metadata": {
    "id": "wr5uEpVUkC-k"
   },
   "source": [
    "%%R\n",
    "rates<-data.frame(test$CSRVSUM)\n",
    "rates2<-cbind(rates,preds)"
   ],
   "execution_count": null,
   "outputs": []
  },
  {
   "cell_type": "code",
   "metadata": {
    "id": "Ri58RmHDlN1w",
    "colab": {
     "base_uri": "https://localhost:8080/"
    },
    "outputId": "db192f70-6034-4a33-ce5e-d155405711ed"
   },
   "source": [
    "%%R\n",
    "table(rates2$test.CSRVSUM,preds>0.45)"
   ],
   "execution_count": null,
   "outputs": []
  },
  {
   "cell_type": "code",
   "metadata": {
    "id": "tfmaqmh2g5WR",
    "colab": {
     "base_uri": "https://localhost:8080/"
    },
    "outputId": "8ee55a3d-f76c-43df-f09d-24f6982be3b3"
   },
   "source": [
    "%%R\n",
    "TP <- 21\n",
    "TN <- 33\n",
    "FP <- 24\n",
    "FN <- 14\n",
    "Accuracy <- (TP + TN) / (TP+TN+FP+FN)\n",
    "print(paste(\"Accuracy\", Accuracy))"
   ],
   "execution_count": null,
   "outputs": []
  },
  {
   "cell_type": "markdown",
   "metadata": {
    "id": "LhKjvITfvHn1"
   },
   "source": [
    "#### Logistic Regression for Predictor _INCOMG & Response Variable of CSRVSUM"
   ]
  },
  {
   "cell_type": "code",
   "metadata": {
    "id": "NqXXIkZnvHn2"
   },
   "source": [
    "data = copy.deepcopy(FiveYrLungCancer)\n",
    "# remove unwanted predictor levels for _EDUCAG\n",
    "data = data[(data['CSRVSUM']<3) & (data['CSRVRTRN']<3) & (data['CSRVINSR']<3)]\n",
    "data = data[(data['_INCOMG']<9)]\n",
    "data01 = copy.deepcopy(data)\n",
    "data01.to_csv('data01.csv')"
   ],
   "execution_count": null,
   "outputs": []
  },
  {
   "cell_type": "code",
   "metadata": {
    "id": "zlBzd7tjvHn5"
   },
   "source": [
    "%%R\n",
    "Data <- read.csv('data01.csv')\n",
    "\n",
    "Data[,5]<-factor(Data[,5])\n",
    "Data[,6]<-factor(Data[,6])\n",
    "Data[,7]<-factor(Data[,7])\n",
    "Data[,8]<-factor(Data[,8])\n",
    "Data[,9]<-factor(Data[,9])\n",
    "Data[,10]<-factor(Data[,10])\n",
    "Data[,11]<-factor(Data[,11])\n",
    "Data[,12]<-factor(Data[,12])\n",
    "Data[,13]<-factor(Data[,13])\n",
    "Data[,14]<-factor(Data[,14])\n",
    "\n",
    "Data[,18]<-factor(Data[,18])\n",
    "Data[,19]<-factor(Data[,19])\n",
    "Data[,20]<-factor(Data[,20])\n",
    "Data[,21]<-factor(Data[,21])\n",
    "\n",
    "Data[,5]<-relevel(Data[,5], ref=\"1\")\n",
    "Data[,6]<-relevel(Data[,6], ref=\"1\")\n",
    "Data[,7]<-relevel(Data[,7], ref=\"1\")\n",
    "Data[,8]<-relevel(Data[,8], ref=\"1\")\n",
    "Data[,9]<-relevel(Data[,9], ref=\"1\")\n",
    "Data[,10]<-relevel(Data[,10], ref=\"1\")\n",
    "Data[,11]<-relevel(Data[,11], ref=\"1\")\n",
    "Data[,12]<-relevel(Data[,12], ref=\"1\")\n",
    "Data[,13]<-relevel(Data[,13], ref=\"1\")\n",
    "Data[,14]<-relevel(Data[,14], ref=\"1\")\n",
    "\n",
    "Data[,18]<-relevel(Data[,18], ref=\"1\")\n",
    "Data[,19]<-relevel(Data[,19], ref=\"1\")\n",
    "Data[,20]<-relevel(Data[,20], ref=\"1\")\n",
    "Data[,21]<-relevel(Data[,21], ref=\"1\")\n"
   ],
   "execution_count": null,
   "outputs": []
  },
  {
   "cell_type": "code",
   "metadata": {
    "id": "UP9aTxbdvHn7",
    "colab": {
     "base_uri": "https://localhost:8080/"
    },
    "outputId": "0671e723-c152-490d-b769-4b02a978fd47"
   },
   "source": [
    "%%R\n",
    "set.seed(1)\n",
    "sample<-sample.int(nrow(Data), floor(.80*nrow(Data)), replace = F)\n",
    "train<-Data[sample, ]\n",
    "test<-Data[-sample, ]\n",
    "\n",
    "# ##full model\n",
    "result<-glm(CSRVSUM ~ X_INCOMG, family = \"binomial\", data=train)\n",
    "summary(result)"
   ],
   "execution_count": null,
   "outputs": []
  },
  {
   "cell_type": "code",
   "metadata": {
    "id": "UcEhVGnVvHn9",
    "colab": {
     "base_uri": "https://localhost:8080/"
    },
    "outputId": "950684f2-c76f-4602-ba4b-dedb038242cc"
   },
   "source": [
    "%%R\n",
    "TS<-result$null.deviance-result$deviance\n",
    "print(paste(\"p-value = \", 1-pchisq(TS,3)))"
   ],
   "execution_count": null,
   "outputs": []
  },
  {
   "cell_type": "code",
   "metadata": {
    "id": "XMIka-lPvHn-"
   },
   "source": [
    "%%R\n",
    "#use model to predict value of CSRVSUM\n",
    "preds<-predict(result, newdata=test, type=\"response\")"
   ],
   "execution_count": null,
   "outputs": []
  },
  {
   "cell_type": "code",
   "metadata": {
    "id": "is3_2WKZvHn_"
   },
   "source": [
    "%%R\n",
    "rates<-data.frame(test$CSRVSUM)\n",
    "rates2<-cbind(rates,preds)"
   ],
   "execution_count": null,
   "outputs": []
  },
  {
   "cell_type": "code",
   "metadata": {
    "id": "-nrkKFGnvHn_",
    "colab": {
     "base_uri": "https://localhost:8080/"
    },
    "outputId": "7b5edfba-b7cb-465b-9242-92bee20c4f57"
   },
   "source": [
    "%%R\n",
    "table(rates2$test.CSRVSUM,preds>0.4)"
   ],
   "execution_count": null,
   "outputs": []
  },
  {
   "cell_type": "code",
   "metadata": {
    "id": "nyRM5j22vHoA",
    "colab": {
     "base_uri": "https://localhost:8080/"
    },
    "outputId": "75a0cba4-b057-4109-e269-cc1990e41906"
   },
   "source": [
    "%%R\n",
    "TP <- 22\n",
    "TN <- 22\n",
    "FP <- 19\n",
    "FN <- 14\n",
    "Accuracy <- (TP + TN) / (TP+TN+FP+FN)\n",
    "print(paste(\"Accuracy\", Accuracy))"
   ],
   "execution_count": null,
   "outputs": []
  }
 ]
}